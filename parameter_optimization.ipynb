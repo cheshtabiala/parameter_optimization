{
  "nbformat": 4,
  "nbformat_minor": 0,
  "metadata": {
    "colab": {
      "provenance": [],
      "authorship_tag": "ABX9TyOvYKXNeYSgi4YbEDou08yf",
      "include_colab_link": true
    },
    "kernelspec": {
      "name": "python3",
      "display_name": "Python 3"
    },
    "language_info": {
      "name": "python"
    }
  },
  "cells": [
    {
      "cell_type": "markdown",
      "metadata": {
        "id": "view-in-github",
        "colab_type": "text"
      },
      "source": [
        "<a href=\"https://colab.research.google.com/github/cheshtabiala/parameter_optimization/blob/main/parameter_optimization.ipynb\" target=\"_parent\"><img src=\"https://colab.research.google.com/assets/colab-badge.svg\" alt=\"Open In Colab\"/></a>"
      ]
    },
    {
      "cell_type": "code",
      "execution_count": null,
      "metadata": {
        "id": "GLzaIEzQ4G-E"
      },
      "outputs": [],
      "source": [
        "\n",
        "import numpy as np\n",
        "import matplotlib.pyplot as plt\n",
        "import pandas as pd\n",
        "import seaborn as sns\n",
        "%matplotlib inline\n",
        "from sklearn.model_selection import train_test_split, GridSearchCV\n",
        "from sklearn.svm import SVC\n",
        "from sklearn.metrics import accuracy_score\n",
        "from sklearn.preprocessing import StandardScaler\n",
        "from sklearn.model_selection import learning_curve\n",
        "import warnings\n",
        "warnings.filterwarnings('ignore')"
      ]
    },
    {
      "cell_type": "code",
      "source": [
        "dataset = pd.read_csv(\"/content/academics_data.csv\",sep=\";\", header=0)\n",
        "dataset.columns = dataset.columns.str.strip().str.lower().str.replace(' ', '_').str.replace('\"', '')\n",
        "dataset.isnull().sum()\n"
      ],
      "metadata": {
        "id": "9uqBpwuZ4Jf1"
      },
      "execution_count": null,
      "outputs": []
    },
    {
      "cell_type": "code",
      "source": [
        "from sklearn.preprocessing import LabelEncoder\n",
        "target_column=dataset[\"target\"]\n",
        "dataset[\"target\"].unique()\n",
        "class_labels = [\"Dropout\", \"Graduate\", \"Enrolled\"]\n",
        "\n",
        "label_encoder = LabelEncoder()\n",
        "label_encoder.fit(class_labels)\n",
        "encoded_target = label_encoder.transform(target_column)\n",
        "\n",
        "target_column = encoded_target"
      ],
      "metadata": {
        "id": "YADKd0_64JiX"
      },
      "execution_count": null,
      "outputs": []
    },
    {
      "cell_type": "code",
      "source": [
        "missing_values = dataset.isnull().sum()\n",
        "\n",
        "if missing_values.any():\n",
        "    print(\"Columns with missing values:\")\n",
        "    print(missing_values[missing_values > 0])\n",
        "else:\n",
        "    print(\"No missing values found in the dataset.\")"
      ],
      "metadata": {
        "id": "FxgrkYem4Jkt"
      },
      "execution_count": null,
      "outputs": []
    },
    {
      "cell_type": "code",
      "source": [
        "X = dataset.iloc[:,0:-1]\n",
        "y = dataset['target']\n",
        "ss = StandardScaler()\n",
        "ss.fit_transform(X)"
      ],
      "metadata": {
        "id": "04q5lifM4JnC"
      },
      "execution_count": null,
      "outputs": []
    },
    {
      "cell_type": "code",
      "source": [
        "samples = []\n",
        "for i in range(10):\n",
        "    X_train, X_test, y_train, y_test = train_test_split(X, y, test_size=0.3, random_state=i)\n",
        "    samples.append((X_train, X_test, y_train, y_test))\n",
        "kernels = ['linear', 'poly', 'rbf', 'sigmoid']\n",
        "result = pd.DataFrame(columns=['Sample', 'Best Accuracy', 'Best Kernel Value', 'Best C Value', 'Best Gamma Value'])\n",
        "def fitnessFunction(kernel, C, gamma):\n",
        "  svm = SVC(kernel=kernel, C=C, gamma=gamma, max_iter=100)\n",
        "  svm.fit(X_train, y_train)\n",
        "  y_pred = svm.predict(X_test)\n",
        "  return accuracy_score(y_pred, y_test)"
      ],
      "metadata": {
        "id": "KEBVOwpP4TAi"
      },
      "execution_count": null,
      "outputs": []
    },
    {
      "cell_type": "code",
      "source": [
        "for i in range(len(samples)):\n",
        "  best_accuracy = 0\n",
        "  best_C = 0\n",
        "  best_gamma = 0\n",
        "  for kernel in kernels:\n",
        "    X_train, X_test, y_train, y_test = samples[i]\n",
        "    C = np.random.uniform(0, 10)\n",
        "    gamma = np.random.uniform(0, 10)\n",
        "    score = fitnessFunction(kernel, C, gamma)\n",
        "    if score>best_accuracy:\n",
        "      best_accuracy = round(score, 2)\n",
        "      best_C = round(C, 2)\n",
        "      best_gamma = round(gamma, 2)\n",
        "      best_kernel = kernel\n",
        "  result.loc[i] = [i+1, best_accuracy, best_kernel, best_C, best_gamma]\n",
        "print(result)\n",
        "X_train, X_test, y_train, y_test = samples[result['Best Accuracy'].idxmax()]\n",
        "train_sizes, train_scores, test_scores = learning_curve(SVC(kernel=result['Best Kernel Value'].iloc[result['Best Accuracy'].idxmax()],\n",
        "                                                        C=result['Best C Value'].iloc[result['Best Accuracy'].idxmax()],\n",
        "                                                        gamma=result['Best Gamma Value'].iloc[result['Best Accuracy'].idxmax()],\n",
        "                                                        max_iter = 100), X_train, y_train, cv=10, scoring='accuracy', n_jobs=-1,\n",
        "                                                        train_sizes = np.linspace(0.01, 1.0, 50))\n",
        "\n",
        "train_mean = np.mean(train_scores, axis=1)\n",
        "test_mean = np.mean(test_scores, axis=1)\n",
        "plt.figure(figsize=(10, 6))\n",
        "plt.plot(train_sizes, train_mean, label='Score on Training')\n",
        "plt.plot(train_sizes, test_mean, label='Score on Cross-Validation')\n",
        "plt.xlabel('Iterations')\n",
        "plt.ylabel('Accuracy')\n",
        "plt.title('Convergence Graph')\n",
        "plt.legend(loc=\"best\")\n",
        "plt.show()"
      ],
      "metadata": {
        "id": "FlDs0h5q4TC8"
      },
      "execution_count": null,
      "outputs": []
    },
    {
      "cell_type": "code",
      "source": [],
      "metadata": {
        "id": "shmwUP9-4TFT"
      },
      "execution_count": null,
      "outputs": []
    }
  ]
}